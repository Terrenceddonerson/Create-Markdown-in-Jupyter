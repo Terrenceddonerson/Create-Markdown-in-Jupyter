{
 "cells": [
  {
   "cell_type": "code",
   "execution_count": 1,
   "metadata": {},
   "outputs": [
    {
     "name": "stdout",
     "output_type": "stream",
     "text": [
      "hello world\n"
     ]
    }
   ],
   "source": [
    "print(\"hello world\")"
   ]
  },
  {
   "cell_type": "markdown",
   "metadata": {},
   "source": [
    "# My Markdown Title\n",
    "\n",
    "Hello I'm Terrence and in this notebook, I will be practicing my repeatable technical documentation skills using Markdown syntax. Markdown is a lightweight markup language that allows you to format text in a simple and readable way. It's commonly used for creating documentation, README files, and web content.\n",
    "\n",
    "Some of the basic Markdown syntax includes:\n",
    "\n",
    "- Headings, which are created with the '#' symbol\n",
    "- Bold and italic text, which are created with the '**' and '*' symbols, respectively\n",
    "- Lists, which can be ordered or unordered\n",
    "- Links, which are created with square brackets and parentheses\n",
    "- Images, which are created in a similar way to links but with an exclamation mark before the square brackets\n",
    "- Code blocks, which are"
   ]
  }
 ],
 "metadata": {
  "kernelspec": {
   "display_name": "Python 3",
   "language": "python",
   "name": "python3"
  },
  "language_info": {
   "codemirror_mode": {
    "name": "ipython",
    "version": 3
   },
   "file_extension": ".py",
   "mimetype": "text/x-python",
   "name": "python",
   "nbconvert_exporter": "python",
   "pygments_lexer": "ipython3",
   "version": "3.7.6"
  }
 },
 "nbformat": 4,
 "nbformat_minor": 4
}
