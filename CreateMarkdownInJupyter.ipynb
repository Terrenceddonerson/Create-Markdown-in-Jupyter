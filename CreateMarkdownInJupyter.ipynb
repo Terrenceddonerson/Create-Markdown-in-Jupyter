{
  "cells": [
    {
      "cell_type": "markdown",
      "metadata": {
        "id": "view-in-github",
        "colab_type": "text"
      },
      "source": [
        "<a href=\"https://colab.research.google.com/github/Terrenceddonerson/Create-Markdown-in-Jupyter/blob/master/CreateMarkdownInJupyter.ipynb\" target=\"_parent\"><img src=\"https://colab.research.google.com/assets/colab-badge.svg\" alt=\"Open In Colab\"/></a>"
      ]
    },
    {
      "cell_type": "code",
      "execution_count": null,
      "metadata": {
        "id": "UHv4Mv8kRjeW",
        "outputId": "44382eea-5c8b-41cc-aab2-199785374267"
      },
      "outputs": [
        {
          "name": "stdout",
          "output_type": "stream",
          "text": [
            "hello world\n"
          ]
        }
      ],
      "source": [
        "print(\"hello world\")"
      ]
    },
    {
      "cell_type": "markdown",
      "metadata": {
        "id": "7layrfgTRjec"
      },
      "source": [
        "# My Markdown Title\n",
        "\n",
        "Hello I'm Terrence and in this notebook, I will be practicing my repeatable technical documentation skills using Markdown syntax. Markdown is a lightweight markup language that allows you to format text in a simple and readable way. It's commonly used for creating documentation, README files, and web content.\n",
        "\n",
        "Some of the basic Markdown syntax includes:\n",
        "\n",
        "- Headings, which are created with the '#' symbol\n",
        "- Bold and italic text, which are created with the '**' and '*' symbols, respectively\n",
        "- Lists, which can be ordered or unordered\n",
        "- Links, which are created with square brackets and parentheses\n",
        "- Images, which are created in a similar way to links but with an exclamation mark before the square brackets\n",
        "- Code blocks, which are"
      ]
    }
  ],
  "metadata": {
    "kernelspec": {
      "display_name": "Python 3",
      "language": "python",
      "name": "python3"
    },
    "language_info": {
      "codemirror_mode": {
        "name": "ipython",
        "version": 3
      },
      "file_extension": ".py",
      "mimetype": "text/x-python",
      "name": "python",
      "nbconvert_exporter": "python",
      "pygments_lexer": "ipython3",
      "version": "3.7.6"
    },
    "colab": {
      "provenance": [],
      "include_colab_link": true
    }
  },
  "nbformat": 4,
  "nbformat_minor": 0
}